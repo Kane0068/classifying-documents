{
  "nbformat": 4,
  "nbformat_minor": 0,
  "metadata": {
    "colab": {
      "provenance": [],
      "authorship_tag": "ABX9TyODeBTu08czFvArNJmonak5",
      "include_colab_link": true
    },
    "kernelspec": {
      "name": "python3",
      "display_name": "Python 3"
    },
    "language_info": {
      "name": "python"
    }
  },
  "cells": [
    {
      "cell_type": "markdown",
      "metadata": {
        "id": "view-in-github",
        "colab_type": "text"
      },
      "source": [
        "<a href=\"https://colab.research.google.com/github/Kane0068/classifying-documents/blob/main/Anahtar_%C5%9Eehir.ipynb\" target=\"_parent\"><img src=\"https://colab.research.google.com/assets/colab-badge.svg\" alt=\"Open In Colab\"/></a>"
      ]
    },
    {
      "cell_type": "markdown",
      "source": [
        "- Önce görüntü mü yoksa pdf mi ona karar verir\n",
        "- Görüntüyse ona göre\n",
        "* pdf ise ona göre okuma işlemi yapar\n",
        "- İçinde tanımlanan şehir isimlerini tarar\n",
        "- Bulursa uygun kategoriye ekler bulamazsa boş döndürür\n"
      ],
      "metadata": {
        "id": "cjAButAccpgP"
      }
    },
    {
      "cell_type": "code",
      "execution_count": null,
      "metadata": {
        "id": "XLaUqFHccjG8"
      },
      "outputs": [],
      "source": [
        "import cv2\n",
        "import pytesseract\n",
        "import PyPDF2\n",
        "import re\n",
        "\n",
        "def categorize_file(input_file, cities, category_folder):\n",
        "    # PDF mi görüntü dosyası mı kontrol ediyoruz\n",
        "    if input_file.lower().endswith(('.pdf', '.jpeg', '.jpg', '.png')):\n",
        "        is_image = True\n",
        "    else:\n",
        "        is_image = False\n",
        "\n",
        "    # Görüntü ise\n",
        "    if is_image:\n",
        "        image = cv2.imread(input_file)\n",
        "        text = pytesseract.image_to_string(image)\n",
        "    # Metin formatı ise\n",
        "    else:\n",
        "        pdf_file = open(input_file, \"rb\")\n",
        "        pdf_reader = PyPDF2.PdfFileReader(pdf_file)\n",
        "        text = \"\"\n",
        "        for page_num in range(pdf_reader.numPages):\n",
        "            page = pdf_reader.getPage(page_num)\n",
        "            text += page.extractText()\n",
        "        pdf_file.close()\n",
        "\n",
        "    # Şehir listesini yapalım\n",
        "    matched_cities = [city for city in cities if re.search(city, text, re.I)]\n",
        "\n",
        "    if matched_cities:\n",
        "        # Kategoriyi belirle\n",
        "        category = matched_cities[0]\n",
        "\n",
        "        # Kategorinin dosya yolu\n",
        "        category_path = os.path.join(category_folder, category)\n",
        "\n",
        "        # Kategorinin klasörünü oluştur\n",
        "        os.makedirs(category_path, exist_ok=True)\n",
        "\n",
        "        # Metni ilgili kategoriye kaydet\n",
        "        with open(os.path.join(category_path, os.path.basename(input_file)), \"w\") as file:\n",
        "            file.write(text)\n",
        "\n",
        "    return matched_cities\n",
        "\n",
        "# Kullanım örneği:\n",
        "input_file = \"example.pdf\"  # İşlem yapılacak dosyanın yolu\n",
        "cities = [\"Adana\", \"İstanbul\", \"Ankara\"]  # İlgili şehirleri ekleyelim\n",
        "category_folder = \"categorized_data\"  # Kategorilendirilmiş verilerin kaydedileceği klasör\n",
        "\n",
        "matched_cities = categorize_file(input_file, cities, category_folder)\n",
        "if matched_cities:\n",
        "    print(f\"Kategori: {matched_cities[0]}\")\n"
      ]
    },
    {
      "cell_type": "markdown",
      "source": [
        "- TARAYICI KULLANARAK TARA\n",
        "- TARANAN GÖRÜNTÜYÜ METNE ÇEVİR\n",
        "- İŞLEMLERİ TEKRARLA"
      ],
      "metadata": {
        "id": "uhV_HG-mfEvV"
      }
    },
    {
      "cell_type": "code",
      "source": [
        "import cv2\n",
        "import pytesseract\n",
        "import PyPDF2\n",
        "import re\n",
        "import shutil\n",
        "import os\n",
        "from scanner import Scanner  # Tarayıcı kütüphanesi\n",
        "\n",
        "def scan_and_categorize(input_path, cities, category_folder):\n",
        "    scanner = Scanner()  # Tarayıcı nesnesi oluşturun\n",
        "    scanned_image = scanner.scan_to_file()  # Tarayıcıyı kullanarak bir görüntü alın\n",
        "    input_file = input_path\n",
        "\n",
        "    if not input_file.lower().endswith(('.pdf', '.jpeg', '.jpg', '.png')):\n",
        "        raise ValueError(\"Desteklenmeyen dosya uzantısı.\")\n",
        "\n",
        "    # Görüntüyü metne çevir\n",
        "    image = cv2.imread(scanned_image)\n",
        "    text = pytesseract.image_to_string(image)\n",
        "\n",
        "    # Şehir listesi\n",
        "    matched_cities = [city for city in cities if re.search(city, text, re.I)]\n",
        "\n",
        "    if matched_cities:\n",
        "        # Kategoriyi belirle\n",
        "        category = matched_cities[0]\n",
        "\n",
        "        # Kategorinin dosya yolu\n",
        "        category_path = os.path.join(category_folder, category)\n",
        "\n",
        "        # Kategorinin klasörünü oluştur\n",
        "        os.makedirs(category_path, exist_ok=True)\n",
        "\n",
        "        # Metni ilgili kategoriye kaydet\n",
        "        with open(os.path.join(category_path, os.path.basename(input_file)), \"w\") as file:\n",
        "            file.write(text)\n",
        "\n",
        "        # Tarayıcı tarafından kaydedilen geçici görüntüyü sil\n",
        "        os.remove(scanned_image)\n",
        "\n",
        "    return matched_cities\n",
        "\n",
        "# Kullanım örneği:\n",
        "input_path = \"example.jpg\"  # Tarayıcı ile tarama yapılacak dosyanın yolu\n",
        "cities = [\"Adana\", \"İstanbul\", \"Ankara\"]  # İlgili şehirleri ekleyin\n",
        "category_folder = \"categorized_data\"  # Kategorilendirilmiş verilerin kaydedileceği klasör\n",
        "\n",
        "matched_cities = scan_and_categorize(input_path, cities, category_folder)\n",
        "if matched_cities:\n",
        "    print(f\"Kategori: {matched_cities[0]}\")\n"
      ],
      "metadata": {
        "id": "cm3q6ntzfETD"
      },
      "execution_count": null,
      "outputs": []
    },
    {
      "cell_type": "markdown",
      "source": [
        "**-ÖNCEDEN EĞİTİLMİŞ CNN MODELİ ve OCR KULLANARAK SINIFLANDIRMA**"
      ],
      "metadata": {
        "id": "elCc5C4DlfIy"
      }
    },
    {
      "cell_type": "code",
      "source": [
        "# Görüntü verilerini işlemek için önceden eğitilmiş bir CNN modeli kullanın\n",
        "import cv2\n",
        "import pytesseract\n",
        "from PIL import Image\n",
        "import os\n",
        "\n",
        "# Önceden eğitilmiş bir CNN modelini yükleyin (örneğin, ResNet-50)\n",
        "cnn_model = tf.keras.applications.ResNet50(weights=\"imagenet\")\n",
        "\n",
        "# Görüntü dosyasını okuyun\n",
        "image_path = \"path/to/image.jpg\"\n",
        "image = cv2.imread(image_path)\n",
        "\n",
        "# Görüntüyü önceden eğitilmiş model için uygun formata getirin\n",
        "image = cv2.resize(image, (224, 224))  # Modelin giriş boyutuna uygun hale getirin\n",
        "image = tf.keras.applications.resnet50.preprocess_input(image)\n",
        "image = tf.convert_to_tensor(image)\n",
        "\n",
        "# Görüntüyü model üzerinden geçirin ve sonucu alın\n",
        "features = cnn_model.predict(tf.expand_dims(image, axis=0))\n",
        "\n",
        "# OCR (Optical Character Recognition) kullanarak metni alın\n",
        "text = pytesseract.image_to_string(Image.open(image_path))\n",
        "\n",
        "# Metin içeriğine göre kategoriyi belirleyin\n",
        "if \"Adana\" in text:\n",
        "    category = \"Adana\"\n",
        "else:\n",
        "    category = \"Diğer Şehir\"\n",
        "\n",
        "# Dosyaları kategorilere göre yerleştirin\n",
        "output_dir = \"output_folder\"\n",
        "category_dir = os.path.join(output_dir, category)\n",
        "os.makedirs(category_dir, exist_ok=True)\n",
        "output_file = os.path.join(category_dir, os.path.basename(image_path))\n",
        "os.rename(image_path, output_file)\n"
      ],
      "metadata": {
        "id": "ci5j57GYlvrB"
      },
      "execution_count": null,
      "outputs": []
    },
    {
      "cell_type": "markdown",
      "source": [
        "**FONKSİYON OLARAK DÜZENLENMİŞ HALİ**"
      ],
      "metadata": {
        "id": "SoNn1ds4mCQz"
      }
    },
    {
      "cell_type": "code",
      "source": [
        "import cv2\n",
        "import pytesseract\n",
        "from PIL import Image\n",
        "import os\n",
        "import tensorflow as tf\n",
        "\n",
        "def process_and_categorize_image(image_path, cnn_model, output_dir):\n",
        "    # Görüntüyü önceden eğitilmiş model için uygun formata getirin\n",
        "    def preprocess_image(image):\n",
        "        image = cv2.resize(image, (224, 224))  # Modelin giriş boyutuna uygun hale getirin\n",
        "        image = tf.keras.applications.resnet50.preprocess_input(image)\n",
        "        image = tf.convert_to_tensor(image)\n",
        "        return image\n",
        "\n",
        "    # OCR (Optical Character Recognition) kullanarak metni alın\n",
        "    def extract_text_from_image(image):\n",
        "        text = pytesseract.image_to_string(Image.fromarray(image))\n",
        "        return text\n",
        "\n",
        "    # Dosyaları kategorilere göre yerleştirin\n",
        "    def categorize_image(image_path, text, cnn_model, output_dir):\n",
        "        features = cnn_model.predict(tf.expand_dims(preprocess_image(image), axis=0))\n",
        "\n",
        "        if \"Adana\" in text:\n",
        "            category = \"Adana\"\n",
        "        else:\n",
        "            category = \"Diğer Şehir\"\n",
        "\n",
        "        category_dir = os.path.join(output_dir, category)\n",
        "        os.makedirs(category_dir, exist_ok=True)\n",
        "        output_file = os.path.join(category_dir, os.path.basename(image_path))\n",
        "        os.rename(image_path, output_file)\n",
        "\n",
        "    # Görüntü dosyasını okuyun\n",
        "    image = cv2.imread(image_path)\n",
        "\n",
        "    # Görüntüyü model üzerinden geçirin ve özellikleri alın\n",
        "    categorize_image(image_path, extract_text_from_image(image), cnn_model, output_dir)\n",
        "\n",
        "# Kullanım örneği\n",
        "cnn_model = tf.keras.applications.ResNet50(weights=\"imagenet\")\n",
        "image_path = \"path/to/image.jpg\"\n",
        "output_dir = \"output_folder\"\n",
        "process_and_categorize_image(image_path, cnn_model, output_dir)\n"
      ],
      "metadata": {
        "id": "jVQcMwI8mIlY"
      },
      "execution_count": null,
      "outputs": []
    },
    {
      "cell_type": "markdown",
      "source": [
        "**HEM GÖRÜNTÜ HEM METİN TABANLI İÇİN**"
      ],
      "metadata": {
        "id": "LP5L5JUwmLzz"
      }
    },
    {
      "cell_type": "code",
      "source": [
        "import cv2\n",
        "import pytesseract\n",
        "from PIL import Image\n",
        "import os\n",
        "import tensorflow as tf\n",
        "\n",
        "def process_and_categorize_data(data_path, cnn_model, output_dir):\n",
        "    def preprocess_image(image):\n",
        "        image = cv2.resize(image, (224, 224))\n",
        "        image = tf.keras.applications.resnet50.preprocess_input(image)\n",
        "        image = tf.convert_to_tensor(image)\n",
        "        return image\n",
        "\n",
        "    def extract_text_from_image(image):\n",
        "        text = pytesseract.image_to_string(Image.fromarray(image))\n",
        "        return text\n",
        "\n",
        "    def categorize_data(data_path, text, cnn_model, output_dir):\n",
        "        features = cnn_model.predict(tf.expand_dims(preprocess_image(image), axis=0)\n",
        "\n",
        "        if \"Adana\" in text:\n",
        "            category = \"Adana\"\n",
        "        else:\n",
        "            category = \"Diğer Şehir\"\n",
        "\n",
        "        category_dir = os.path.join(output_dir, category)\n",
        "        os.makedirs(category_dir, exist_ok=True)\n",
        "        output_file = os.path.join(category_dir, os.path.basename(data_path))\n",
        "        os.rename(data_path, output_file)\n",
        "\n",
        "    if data_path.endswith(('.jpg', '.jpeg', '.png')):\n",
        "        image = cv2.imread(data_path)\n",
        "        categorize_data(data_path, extract_text_from_image(image), cnn_model, output_dir)\n",
        "    elif data_path.endswith('.pdf'):\n",
        "        # ---------VVVVVVVVVVVV----------\n",
        "        # PDF KODLARI YAZILACAK BURAYA\n",
        "        # ---------^^^^^^^^^^^^-----------\n",
        "        pass\n",
        "    else:\n",
        "        print(\"Desteklenmeyen dosya uzantısı\")\n",
        "\n",
        "# Kullanım örneği\n",
        "cnn_model = tf.keras.applications.ResNet50(weights=\"imagenet\")\n",
        "data_path = \"path/to/data.jpg\"\n",
        "output_dir = \"output_folder\"\n",
        "process_and_categorize_data(data_path, cnn_model, output_dir)\n"
      ],
      "metadata": {
        "id": "BaNAADVqmbNr"
      },
      "execution_count": null,
      "outputs": []
    }
  ]
}